{
 "cells": [
  {
   "cell_type": "code",
   "execution_count": 42,
   "metadata": {
    "collapsed": true
   },
   "outputs": [],
   "source": [
    "import pandas as pd\n",
    "import numpy as np\n",
    "import re\n",
    "\n",
    "srt_list = pd.read_csv(\"/data/srt_list.csv\", encoding='CP949')\n",
    "\n",
    "final_data = pd.DataFrame()\n",
    "for k in range(len(srt_list)):\n",
    "    f = open(\"/data/\"+srt_list['Title'][k]+'.srt','r',encoding='UTF8')\n",
    "    lines = f.readlines()\n",
    "    f.close()\n",
    "    \n",
    "    srt = []\n",
    "    for i in range(len(lines)):\n",
    "        srt += {lines[i].replace('\\n','')}\n",
    "    time = []\n",
    "    subtitle = []\n",
    "    time_re = re.compile('..:..:..')\n",
    "    sub_re = re.compile('[가-힣a-zA-Z]')\n",
    "    space_re = re.compile(' ')\n",
    "    for i in range(len(srt)):\n",
    "        if time_re.search(srt[i]) :\n",
    "            time += [{'time' : srt[i]}]\n",
    "        elif sub_re.search(srt[i]) :\n",
    "            if sub_re.search(srt[i-1]) :\n",
    "                next\n",
    "            elif sub_re.search(srt[i+1]) :\n",
    "                subtitle += [{'subtitle' : srt[i] + ' ' + srt[i+1]}]\n",
    "                next\n",
    "            else :\n",
    "                subtitle += [{'subtitle' : srt[i]}]\n",
    "        elif space_re.match(srt[i]):\n",
    "            subtitle += [{'subtitle' : srt[i]}]\n",
    "            next\n",
    "    \n",
    "    subtitle_string_processing = []\n",
    "    for string_processing in subtitle:\n",
    "        subtitle_string_processing += [{'subtitle' : re.sub('<.*?>',\"\",string_processing['subtitle'])}]\n",
    "    \n",
    "    start = []\n",
    "    end = []\n",
    "    for i in range(len(time)):\n",
    "        a = list(time[i].values())[0]\n",
    "        b = a.split(' ')\n",
    "        start += [{'start' : b[0]}]\n",
    "        end += [{'end' : b[2]}]\n",
    "        \n",
    "    url = []\n",
    "    for i in range(len(subtitle)):\n",
    "        url += [{'url' : srt_list['Link'][k]}]\n",
    "    \n",
    "    data = pd.concat([pd.DataFrame(url), pd.DataFrame(start), pd.DataFrame(end), pd.DataFrame(subtitle_string_processing)], axis = 1).iloc[:-1,]\n",
    "    final_data = pd.concat([final_data, data], axis = 0)\n",
    "\n",
    "final_data = final_data.loc[final_data['subtitle'] != ' ',:]\n",
    "final_data.to_csv('/data/subtitle_file.csv',encoding='UTF8')\n",
    "subtitle_file = pd.read_csv(\"/data/subtitle_file.csv\")"
   ]
  }
 ],
 "metadata": {
  "kernelspec": {
   "display_name": "Python 3",
   "language": "python",
   "name": "python3"
  },
  "language_info": {
   "codemirror_mode": {
    "name": "ipython",
    "version": 3
   },
   "file_extension": ".py",
   "mimetype": "text/x-python",
   "name": "python",
   "nbconvert_exporter": "python",
   "pygments_lexer": "ipython3",
   "version": "3.6.1"
  }
 },
 "nbformat": 4,
 "nbformat_minor": 2
}
